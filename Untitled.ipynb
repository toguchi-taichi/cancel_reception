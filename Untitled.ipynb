{
 "cells": [
  {
   "cell_type": "code",
   "execution_count": 3,
   "metadata": {},
   "outputs": [
    {
     "name": "stdout",
     "output_type": "stream",
     "text": [
      "2021-03-31 08:37:06.352237\n",
      "2021-03-31 08:37:11.921746\n"
     ]
    }
   ],
   "source": [
    "from selenium.webdriver import Chrome, ChromeOptions\n",
    "\n",
    "import os\n",
    "import requests\n",
    "import datetime\n",
    "\n",
    "seito_bango = 210510\n",
    "password = 3094\n",
    "url = 'https://tsubogawa.cptown.net/'\n",
    "line_access_token = 'NcHakB54DyxEaS05QE0mJcQq1erDXYVk1E1p627UaCr'\n",
    "line_api_url = 'https://notify-api.line.me/api/notify'\n",
    "headers = {'Authorization': 'Bearer ' + line_access_token}\n",
    "\n",
    "def main():\n",
    "    \"\"\"\n",
    "    キャンセル待ち予約の受付\n",
    "    \"\"\"\n",
    "\n",
    "    driver = set_driver(True)\n",
    "\n",
    "    Auto_waiting_for_cancellation(driver)\n",
    "\n",
    "\n",
    "def set_driver(headless_flg):\n",
    "    print(datetime.datetime.now())\n",
    "    options = ChromeOptions()\n",
    "    if headless_flg == True:\n",
    "        options.add_argument('--headless')\n",
    "\n",
    "    return Chrome(options=options) \n",
    "\n",
    "\n",
    "def Auto_waiting_for_cancellation(driver):\n",
    "    driver.get(url)\n",
    "    \n",
    "    if driver.find_element_by_class_name(\"btn\"):\n",
    "        driver.find_element_by_class_name(\"btn\").click()\n",
    "    else:\n",
    "        requests.post(line_api_url, headers=headers, data={'message': 'アクセス出来ませんでした'})\n",
    "        return \n",
    "    driver.find_element_by_id(\"seino\").send_keys(seito_bango)\n",
    "    driver.find_element_by_id(\"password\").send_keys(password)\n",
    "\n",
    "    choice = driver.find_element_by_id(\"choice\")\n",
    "    driver.execute_script(\"arguments[0].click();\", choice) \n",
    "    driver.find_element_by_class_name(\"submit-btn\").click()\n",
    "    driver.find_element_by_class_name(\"bgc-orange\").click()\n",
    "    driver.find_element_by_class_name(\"submit-btn\").click()\n",
    "\n",
    "    message = {'message': ''}\n",
    "\n",
    "    if driver.find_elements_by_class_name(\"card-color01\"):\n",
    "        for i in driver.find_elements_by_class_name(\"card-color01\"):\n",
    "            if i.find_element_by_class_name(\"sel-time\").text == '10:30':\n",
    "                i.click()\n",
    "                break\n",
    "        driver.find_element_by_class_name(\"submit-btn\").click()\n",
    "        print(datetime.datetime.now())\n",
    "\n",
    "        message['message'] = driver.find_element_by_class_name('data-date').text + '\\n'\n",
    "        message['message'] = message['message'] + driver.find_element_by_class_name('data-time02').text + '\\n'\n",
    "        message['message'] = message['message'] + driver.find_element_by_class_name('data-naiyo02').text\n",
    "\n",
    "        requests.post(line_api_url, headers=headers, data=message)\n",
    "        \n",
    "    else:\n",
    "        requests.post(line_api_url, headers=headers, data={'message': '予約は埋まっています'})\n",
    "    \n",
    "\n",
    "if __name__ == '__main__':\n",
    "    main()"
   ]
  },
  {
   "cell_type": "code",
   "execution_count": null,
   "metadata": {},
   "outputs": [],
   "source": []
  }
 ],
 "metadata": {
  "kernelspec": {
   "display_name": "Python 3",
   "language": "python",
   "name": "python3"
  },
  "language_info": {
   "codemirror_mode": {
    "name": "ipython",
    "version": 3
   },
   "file_extension": ".py",
   "mimetype": "text/x-python",
   "name": "python",
   "nbconvert_exporter": "python",
   "pygments_lexer": "ipython3",
   "version": "3.7.6"
  }
 },
 "nbformat": 4,
 "nbformat_minor": 4
}
